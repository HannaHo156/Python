{
 "cells": [
  {
   "cell_type": "code",
   "execution_count": 1,
   "id": "cdfbe966-3b65-42f2-94a4-e1bd82a5760e",
   "metadata": {},
   "outputs": [
    {
     "name": "stdout",
     "output_type": "stream",
     "text": [
      "Current Directory is: C:\\Users\\HOANG\\Documents\\FINTECH BOOTCAMP\\UofT-SCS-FinTech-Boot-Camp\\Homework 2\\python-homework\\PyBank\n"
     ]
    }
   ],
   "source": [
    "# Import the pathlib and csv library\n",
    "from pathlib import Path\n",
    "import csv\n",
    "# Check current working directory\n",
    "print(f'Current Directory is: {Path.cwd()}')"
   ]
  },
  {
   "cell_type": "code",
   "execution_count": 2,
   "id": "d4bc5c95-3b93-4157-a39d-1a353c8e1f8f",
   "metadata": {},
   "outputs": [],
   "source": [
    "# Set the file path to csv file\n",
    "filepath = Path(\"budget_data.csv\")"
   ]
  },
  {
   "cell_type": "code",
   "execution_count": 3,
   "id": "b3528181-9664-4fa2-820e-a0a6c6f20cae",
   "metadata": {},
   "outputs": [],
   "source": [
    "# Initialize variables\n",
    "line_num = 0\n",
    "total_months = 0\n",
    "total_pnl = 0\n",
    "total_changes= 0\n",
    "min_value = 0\n",
    "max_value = 0\n",
    "\n",
    "#Initialize lists\n",
    "changespnl = []\n",
    "changespnl.append(0)\n",
    "pnl_array = []\n",
    "month= []"
   ]
  },
  {
   "cell_type": "code",
   "execution_count": 4,
   "id": "3cbefc11-e1e9-4547-b135-c725ba60b575",
   "metadata": {},
   "outputs": [],
   "source": [
    "# TODO: Open the csv file as an object\n",
    "with open (filepath, \"r\") as csvfile:\n",
    "    # Pass in the csv file to the csv.reader() function\n",
    "    # (with ',' as the delmiter/separator) and return the csvreader object\n",
    "    csvreader = csv.reader(csvfile, delimiter = \",\")\n",
    "    # Read the header row\n",
    "    csvheader = next(csvreader)\n",
    "    # Loop function for each row after the header\n",
    "    for row in csvreader:\n",
    "        line_num +=1\n",
    "        date = row[0]\n",
    "        pnl = float(row[1])\n",
    "        month.append(date)    \n",
    "        pnl_array.append(pnl)\n",
    "    # calculate total of months and total profit and lost\n",
    "        total_months += 1\n",
    "        total_pnl += pnl\n"
   ]
  },
  {
   "cell_type": "code",
   "execution_count": 5,
   "id": "3a8843e1-f416-4734-bb5f-13dc187ca5a6",
   "metadata": {},
   "outputs": [],
   "source": [
    "# calculate the changes of gain and loss monthly, total changes and average changes\n",
    "for x in range (1,total_months):\n",
    "    difference = (pnl_array[x] - pnl_array[x-1]) \n",
    "    total_changes += +difference\n",
    "    average_changes= round(total_changes/len(changespnl),2)\n",
    "# Update the list of changes of gain and loss\n",
    "# Obtain minimum value and maximum value as well as total changes over the periods   \n",
    "    changespnl.append(difference)\n",
    "    for y in changespnl:\n",
    "        if min_value == 0:\n",
    "            min_value = y\n",
    "            max_Value = y\n",
    "        elif y < min_value:\n",
    "            min_value = y\n",
    "        elif y > max_value:\n",
    "            max_value = y\n",
    "min_index = changespnl.index(min_value)\n",
    "max_index = changespnl.index(max_value)\n",
    "min_month = month[min_index]\n",
    "max_month = month[max_index]"
   ]
  },
  {
   "cell_type": "code",
   "execution_count": 8,
   "id": "3d8e2c86-e281-47f6-8f15-955816dfb65e",
   "metadata": {},
   "outputs": [],
   "source": [
    "output_path = \"output1.txt\"\n",
    "\n",
    "with open(output_path, \"w\") as file:\n",
    "    file.write(\"Financial Analysis\\n\")\n",
    "    file.write(\"-----------------------------------------------------------------------\\n\")\n",
    "    file.write(f'Total number of months: {total_months}\\n')\n",
    "    file.write(f'Total amount of profit ans loss over the period:{total_pnl}\\n')\n",
    "    file.write(f\"Average of the changes in Profit/Loss over the period : {average_changes}\\n\")\n",
    "    file.write(f\"Greatest increase in profit: {max_month}  |  ${max_value}\\n\")\n",
    "    file.write(f\"Greatest decrease in losses: {min_month}  |  ${min_value}\")\n",
    "    "
   ]
  },
  {
   "cell_type": "code",
   "execution_count": null,
   "id": "1086151f-8bf3-4cc9-acb4-0aaf2271eaaf",
   "metadata": {},
   "outputs": [],
   "source": []
  }
 ],
 "metadata": {
  "kernelspec": {
   "display_name": "Python 3 (ipykernel)",
   "language": "python",
   "name": "python3"
  },
  "language_info": {
   "codemirror_mode": {
    "name": "ipython",
    "version": 3
   },
   "file_extension": ".py",
   "mimetype": "text/x-python",
   "name": "python",
   "nbconvert_exporter": "python",
   "pygments_lexer": "ipython3",
   "version": "3.8.8"
  }
 },
 "nbformat": 4,
 "nbformat_minor": 5
}

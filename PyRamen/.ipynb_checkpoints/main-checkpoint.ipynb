{
 "cells": [
  {
   "cell_type": "code",
   "execution_count": 1,
   "id": "194b8ad8-a6c8-4d4c-bccb-c2b79a8469bb",
   "metadata": {},
   "outputs": [],
   "source": [
    "#  -*- coding: UTF-8 -*-\n",
    "# \"\"\"PyRamen Homework Starter.\"\"\"\n",
    "\n",
    "# Import libraries\n",
    "import csv\n",
    "from pathlib import Path\n",
    "\n",
    "# Set file paths for menu_data.csv and sales_data.csv\n",
    "menu_filepath = Path('menu_data.csv')\n",
    "sales_filepath = Path('sales_data.csv')\n",
    "\n",
    "# Initialize list objects to hold our menu and sales data\n",
    "menu = []\n",
    "sales = []\n",
    "\n",
    "# Read in the menu data into the menu list\n",
    "with open(menu_filepath, \"r\") as file:\n",
    "    menufile=csv.reader(file, delimiter = \",\")\n",
    "    menu_header=next(menufile)\n",
    "    for row in menufile:\n",
    "        menu.append(row)"
   ]
  },
  {
   "cell_type": "code",
   "execution_count": 2,
   "id": "a3cbd257-34fa-41f8-a688-cf57f8a772b2",
   "metadata": {},
   "outputs": [],
   "source": [
    "# Read in the sales data into the sales list\n",
    "with open(sales_filepath, \"r\") as file:\n",
    "    salefile=csv.reader(file, delimiter = \",\")\n",
    "    sale_header=next(salefile)\n",
    "    for row in salefile:\n",
    "        sales.append(row)"
   ]
  },
  {
   "cell_type": "code",
   "execution_count": 3,
   "id": "b10376d5-8844-47df-b0ce-53e9f745e869",
   "metadata": {},
   "outputs": [],
   "source": [
    "# Initialize dict object to hold our key-value pairs of items and metrics\n",
    "report = {}"
   ]
  },
  {
   "cell_type": "code",
   "execution_count": 4,
   "id": "df697ed3-7cf6-43b0-83cd-26094d6268ec",
   "metadata": {},
   "outputs": [],
   "source": [
    "# Initialize a row counter variable\n",
    "row_count = 0\n",
    "menu_item = []\n",
    "\n",
    "# For every row in our sales data, loop over the menu records to determine a match\n",
    "for row in sales:\n",
    "    quantity = row [3]\n",
    "    sale_item = row [4]\n",
    "    menu_item.append(sale_item)\n",
    "    if sale_item not in report:\n",
    "        report[sale_item] =  {\"01-count\": 0, \"02-revenue\": 0, \"03-cogs\": 0, \"04-profit\": 0}\n",
    "    else:\n",
    "        continue"
   ]
  },
  {
   "cell_type": "code",
   "execution_count": 5,
   "id": "7bcf2421-7356-4f65-b46d-01a41926ef66",
   "metadata": {},
   "outputs": [],
   "source": [
    "for row in sales:\n",
    "    quantity = int(row [3])\n",
    "    sale_item = row [4]\n",
    "    if sale_item in report:\n",
    "        report[sale_item][\"01-count\"] += quantity"
   ]
  },
  {
   "cell_type": "code",
   "execution_count": 6,
   "id": "b9471007-bbad-458b-86a5-f423aa61a34b",
   "metadata": {},
   "outputs": [],
   "source": [
    "#  Cumulatively add up the metrics for each item key\n",
    "\n",
    "for row in sales:\n",
    "    quantity = int(row [3])\n",
    "    sale_item = row [4]\n",
    "    for value in menu:\n",
    "        item = value [0]\n",
    "        price = float(value [3])\n",
    "        cost = float(value [4])\n",
    "        if sale_item == item:\n",
    "            report[sale_item][\"02-revenue\"] += round(quantity * price,0)\n",
    "            report[sale_item][\"03-cogs\"] += round(quantity * cost,0)\n",
    "            report[sale_item][\"04-profit\"] = report[sale_item][\"02-revenue\"] -  report[sale_item][\"03-cogs\"]\n",
    "# Requirement ask [else Else print the message \"{sales_item} does not equal {item}! NO MATCH!\".] \n",
    "# I wrote it down but seems weird, instead I Choose continue\n",
    "#        else:\n",
    "#             print(f\"{sale_item} does not equal {item}! NO MATCH!\")\n",
    "        else:\n",
    "            continue\n"
   ]
  },
  {
   "cell_type": "code",
   "execution_count": 7,
   "id": "9247ad60-bf5c-4611-a6d9-71e81492df8c",
   "metadata": {},
   "outputs": [
    {
     "name": "stdout",
     "output_type": "stream",
     "text": [
      "{'spicy miso ramen': {'01-count': 9238, '02-revenue': 110856.0, '03-cogs': 46190.0, '04-profit': 64666.0}, 'tori paitan ramen': {'01-count': 9156, '02-revenue': 119028.0, '03-cogs': 54936.0, '04-profit': 64092.0}, 'truffle butter ramen': {'01-count': 8982, '02-revenue': 125748.0, '03-cogs': 62874.0, '04-profit': 62874.0}, 'tonkotsu ramen': {'01-count': 9288, '02-revenue': 120744.0, '03-cogs': 55728.0, '04-profit': 65016.0}, 'vegetarian spicy miso': {'01-count': 9216, '02-revenue': 110592.0, '03-cogs': 46080.0, '04-profit': 64512.0}, 'shio ramen': {'01-count': 9180, '02-revenue': 100980.0, '03-cogs': 45900.0, '04-profit': 55080.0}, 'miso crab ramen': {'01-count': 8890, '02-revenue': 106680.0, '03-cogs': 53340.0, '04-profit': 53340.0}, 'nagomi shoyu': {'01-count': 9132, '02-revenue': 100452.0, '03-cogs': 45660.0, '04-profit': 54792.0}, 'soft-shell miso crab ramen': {'01-count': 9130, '02-revenue': 127820.0, '03-cogs': 63910.0, '04-profit': 63910.0}, 'burnt garlic tonkotsu ramen': {'01-count': 9070, '02-revenue': 126980.0, '03-cogs': 54420.0, '04-profit': 72560.0}, 'vegetarian curry + king trumpet mushroom ramen': {'01-count': 8824, '02-revenue': 114712.0, '03-cogs': 61768.0, '04-profit': 52944.0}}\n"
     ]
    }
   ],
   "source": [
    "print(report)"
   ]
  },
  {
   "cell_type": "code",
   "execution_count": 9,
   "id": "5a45e1ed-f05c-4836-81d9-4aebe5344654",
   "metadata": {},
   "outputs": [],
   "source": [
    "output_path = Path(\"report.txt\")\n",
    "\n",
    "with open(output_path, 'w') as file:\n",
    "     for line in report:\n",
    "        file.write(f\"{line} {report[line]} \\n\")"
   ]
  },
  {
   "cell_type": "code",
   "execution_count": null,
   "id": "c816dfe8-e014-424c-be43-ed757b0e8d6c",
   "metadata": {},
   "outputs": [],
   "source": []
  },
  {
   "cell_type": "code",
   "execution_count": null,
   "id": "2d4d74fa-4889-4f75-b95e-d9c88285589f",
   "metadata": {},
   "outputs": [],
   "source": []
  }
 ],
 "metadata": {
  "kernelspec": {
   "display_name": "Python 3 (ipykernel)",
   "language": "python",
   "name": "python3"
  },
  "language_info": {
   "codemirror_mode": {
    "name": "ipython",
    "version": 3
   },
   "file_extension": ".py",
   "mimetype": "text/x-python",
   "name": "python",
   "nbconvert_exporter": "python",
   "pygments_lexer": "ipython3",
   "version": "3.8.8"
  }
 },
 "nbformat": 4,
 "nbformat_minor": 5
}
